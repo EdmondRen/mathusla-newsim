{
 "cells": [
  {
   "cell_type": "code",
   "execution_count": 1,
   "id": "b621c1cf-e3e2-4d0e-be34-93106b0adc40",
   "metadata": {},
   "outputs": [
    {
     "name": "stdout",
     "output_type": "stream",
     "text": [
      "Welcome to JupyROOT 6.28/10\n"
     ]
    }
   ],
   "source": [
    "import sys, os\n",
    "import importlib\n",
    "from importlib import reload\n",
    "# importlib.import_module(module_name)\n",
    "sys.path.append(\"../../python\")\n",
    "\n",
    "import matplotlib.pyplot as plt\n",
    "import numpy as np\n",
    "\n",
    "from simhelper import root\n",
    "from simhelper import generator\n",
    "reload(generator)"
   ]
  },
  {
   "cell_type": "code",
   "execution_count": 3,
   "id": "c5d2bb48-17d2-4287-b066-26663262cac9",
   "metadata": {},
   "outputs": [
    {
     "name": "stdout",
     "output_type": "stream",
     "text": [
      "---------------mX=15 GeV-----------------\n",
      "Reading LLP 4-vector file\n",
      "  167284 4-vectors\n",
      "Reading LLP decay product file\n",
      "  19999 LLP decay events\n",
      "Calculating kinematics of 4vecs\n",
      "Selecting 10000 events out of 19999\n",
      "  Processed 2000 events\n",
      "  Processed 4000 events\n",
      "  Processed 6000 events\n",
      "  Processed 8000 events\n",
      "  Processed 10000 events\n",
      "---------------mX=25 GeV-----------------\n",
      "Reading LLP 4-vector file\n",
      "  167284 4-vectors\n",
      "Reading LLP decay product file\n",
      "  19999 LLP decay events\n",
      "Calculating kinematics of 4vecs\n",
      "Selecting 10000 events out of 19999\n",
      "  Processed 2000 events\n",
      "  Processed 4000 events\n",
      "  Processed 6000 events\n",
      "  Processed 8000 events\n",
      "  Processed 10000 events\n",
      "---------------mX=35 GeV-----------------\n",
      "Reading LLP 4-vector file\n",
      "  167284 4-vectors\n",
      "Reading LLP decay product file\n",
      "  19999 LLP decay events\n",
      "Calculating kinematics of 4vecs\n",
      "Selecting 10000 events out of 19999\n",
      "  Processed 2000 events\n",
      "  Processed 4000 events\n",
      "  Processed 6000 events\n",
      "  Processed 8000 events\n",
      "  Processed 10000 events\n",
      "---------------mX=45 GeV-----------------\n",
      "Reading LLP 4-vector file\n",
      "  167284 4-vectors\n",
      "Reading LLP decay product file\n",
      "  19999 LLP decay events\n",
      "Calculating kinematics of 4vecs\n",
      "Selecting 10000 events out of 19999\n",
      "  Processed 2000 events\n",
      "  Processed 4000 events\n",
      "  Processed 6000 events\n",
      "  Processed 8000 events\n",
      "  Processed 10000 events\n",
      "---------------mX=55 GeV-----------------\n",
      "Reading LLP 4-vector file\n",
      "  167284 4-vectors\n",
      "Reading LLP decay product file\n",
      "  19999 LLP decay events\n",
      "Calculating kinematics of 4vecs\n",
      "Selecting 10000 events out of 19999\n",
      "  Processed 2000 events\n",
      "  Processed 4000 events\n",
      "  Processed 6000 events\n",
      "  Processed 8000 events\n",
      "  Processed 10000 events\n"
     ]
    }
   ],
   "source": [
    "DATA_DIR = \"/home/tomren/geant_projects/temp/\"\n",
    "\n",
    "N_MC = 10000\n",
    "mX=35     # GeV\n",
    "ctau=1000 #m\n",
    "rand_seed = 1\n",
    "nprint=2000\n",
    "\n",
    "\n",
    "for mX in [15,25,35,45,55]:\n",
    "    print(f\"---------------mX={mX} GeV-----------------\")\n",
    "    filename_llp4vec = f\"{DATA_DIR}/All_HXX_LLP4vectors/HXX_LLP4vectors_mX_{mX}_2perevent_unweighted.csv\"\n",
    "    filename_products = f\"{DATA_DIR}/H_hadronic_decays_geant/bb_{mX}.txt\"\n",
    "    filename_output = f\"{DATA_DIR}/LLP_bb_{mX}_ctau_{ctau}.root\"        \n",
    "    vec_used = generator.gen_llp(filename_llp4vec, filename_products, filename_output, mX, ctau, N_MC, rand_seed=1, nprint=nprint,metadata=None)"
   ]
  },
  {
   "cell_type": "code",
   "execution_count": null,
   "id": "e1d95ef3-d045-4760-9707-e5880566f69b",
   "metadata": {},
   "outputs": [],
   "source": []
  }
 ],
 "metadata": {
  "kernelspec": {
   "display_name": "Python 3 (ipykernel)",
   "language": "python",
   "name": "python3"
  },
  "language_info": {
   "codemirror_mode": {
    "name": "ipython",
    "version": 3
   },
   "file_extension": ".py",
   "mimetype": "text/x-python",
   "name": "python",
   "nbconvert_exporter": "python",
   "pygments_lexer": "ipython3",
   "version": "3.10.12"
  }
 },
 "nbformat": 4,
 "nbformat_minor": 5
}
