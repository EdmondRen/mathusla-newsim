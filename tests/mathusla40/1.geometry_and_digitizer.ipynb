{
 "cells": [
  {
   "cell_type": "markdown",
   "metadata": {},
   "source": [
    "# 1. Geometry test\n",
    "\n",
    "# 2. Digitizer\n",
    "\n",
    "./simulation -m ../tests/mathusla40/run_parma_mathusla40.mac\n",
    "\n",
    "Run digitizer\n",
    "\n",
    "./digitizer data/run_0.root -p 100"
   ]
  },
  {
   "cell_type": "code",
   "execution_count": 21,
   "metadata": {},
   "outputs": [],
   "source": [
    "import sys, os\n",
    "import importlib\n",
    "# importlib.import_module(module_name)\n",
    "sys.path.append(\"../..\")\n",
    "\n",
    "import matplotlib.pyplot as plt\n",
    "import numpy as np\n",
    "\n",
    "from muhelper import root"
   ]
  },
  {
   "cell_type": "code",
   "execution_count": 2,
   "metadata": {},
   "outputs": [],
   "source": [
    "fname_raw = \"../../build/data/run_0.root\"\n",
    "fname_digi = \"../../build/data/run_0.digi.root\""
   ]
  },
  {
   "cell_type": "code",
   "execution_count": 130,
   "metadata": {},
   "outputs": [
    {
     "name": "stdout",
     "output_type": "stream",
     "text": [
      "None\n",
      "None\n"
     ]
    },
    {
     "data": {
      "text/plain": [
       "<cppyy.gbl.TTree object at 0x55a16d05e3a0>"
      ]
     },
     "execution_count": 130,
     "metadata": {},
     "output_type": "execute_result"
    },
    {
     "name": "stdout",
     "output_type": "stream",
     "text": [
      "TFile**\t\t../../build/data/run_0.root\t\n",
      " TFile*\t\t../../build/data/run_0.root\t\n",
      "  KEY: TTree\traw;1\traw\n",
      "  KEY: TTree\tmetadata;1\tSimulation metadata\n",
      "TFile**\t\t../../build/data/run_0.digi.root\t\n",
      " TFile*\t\t../../build/data/run_0.digi.root\t\n",
      "  KEY: TTree\tmetadata;1\tMetadata for digitization\n",
      "  KEY: TTree\tdigi;1\tDigitized Tree\n"
     ]
    }
   ],
   "source": [
    "f1 = root.tfile(fname_raw)\n",
    "f1.ls()\n",
    "f1.get_tree(\"raw\")\n",
    "# f1.ls_tree()\n",
    "# f1.get_entry(0)\n",
    "\n",
    "f2 = root.tfile(fname_digi)\n",
    "f2.ls()\n",
    "f2.get_tree(\"digi\")\n"
   ]
  },
  {
   "cell_type": "code",
   "execution_count": 131,
   "metadata": {},
   "outputs": [],
   "source": [
    "def split_list(input_list, delimiter = -1):\n",
    "    result = []\n",
    "    current_sublist = []\n",
    "\n",
    "    for value in input_list:\n",
    "        if value == delimiter:\n",
    "            # When -1 is encountered, append the current sublist to result and reset the sublist\n",
    "            if current_sublist:\n",
    "                result.append(current_sublist)\n",
    "            current_sublist = []\n",
    "        else:\n",
    "            # Add value to the current sublist\n",
    "            current_sublist.append(value)\n",
    "    \n",
    "    # Don't forget to append the last sublist if it has any values\n",
    "    if current_sublist:\n",
    "        result.append(current_sublist)\n",
    "\n",
    "    return result\n",
    "    \n",
    "def process_digi(data):\n",
    "    data[\"Digi_hitInds_split\"] = split_list(data[\"Digi_hitInds\"], delimiter=-1)"
   ]
  },
  {
   "cell_type": "code",
   "execution_count": 132,
   "metadata": {},
   "outputs": [],
   "source": [
    "keys = [\"residual_x\", \"residual_y\", \"residual_z\", \"direction\"] \n",
    "res = {key:[] for key in keys}\n",
    "\n",
    "\n",
    "for i in range(f1.entries):\n",
    "# for i in [2]:\n",
    "    \n",
    "    data_raw = f1.get_entry(i)\n",
    "    data_digi = f2.get_entry(i)\n",
    "\n",
    "    process_digi(data_digi)\n",
    "\n",
    "    for j in range(len(data_digi[\"Digi_x\"])):\n",
    "        raw_ind = data_digi[\"Digi_hitInds_split\"][j][0]\n",
    "        res[\"residual_x\"].append(data_digi[\"Digi_x\"][j] - data_raw[\"Hit_x\"][raw_ind])\n",
    "        res[\"residual_y\"].append(data_digi[\"Digi_y\"][j] - data_raw[\"Hit_y\"][raw_ind])\n",
    "        res[\"residual_z\"].append(data_digi[\"Digi_z\"][j] - data_raw[\"Hit_z\"][raw_ind])\n",
    "        res[\"direction\"].append(data_digi[\"Digi_direction\"][j])\n",
    "        if abs(res[\"residual_z\"][-1])>1000:\n",
    "            print(data_digi[\"Digi_z\"][j], data_raw[\"Hit_z\"][raw_ind], data_digi[\"Digi_detectorID\"][j])\n",
    "\n",
    "\n",
    "for key in res:\n",
    "    res[key] = np.array(res[key])"
   ]
  },
  {
   "cell_type": "code",
   "execution_count": 116,
   "metadata": {},
   "outputs": [
    {
     "data": {
      "text/plain": [
       "array([ 12, 102, 120, 210])"
      ]
     },
     "execution_count": 116,
     "metadata": {},
     "output_type": "execute_result"
    }
   ],
   "source": [
    "np.unique(res[\"direction\"])"
   ]
  },
  {
   "cell_type": "code",
   "execution_count": 135,
   "metadata": {},
   "outputs": [
    {
     "data": {
      "image/png": "[encoded data removed]",
      "text/plain": [
       "<Figure size 640x480 with 1 Axes>"
      ]
     },
     "metadata": {},
     "output_type": "display_data"
    }
   ],
   "source": [
    "mask = res[\"direction\"] == 210\n",
    "var= 'residual_x'\n",
    "plt.hist(res[var], bins=100);\n",
    "plt.hist(res[var][mask], bins=100);\n",
    "plt.yscale(\"log\")"
   ]
  },
  {
   "cell_type": "code",
   "execution_count": 12,
   "metadata": {},
   "outputs": [
    {
     "name": "stdout",
     "output_type": "stream",
     "text": [
      "{ 500500393, 500400166, 500300391, 500200124, 500100131, 500000081, 100000304390, 100000204731, 100000303123, 500500648, 500400174, 500300379, 500200407, 500100372 }\n"
     ]
    }
   ],
   "source": [
    "print(f2.tree.Digi_detectorID)"
   ]
  },
  {
   "cell_type": "code",
   "execution_count": 15,
   "metadata": {},
   "outputs": [
    {
     "data": {
      "text/plain": [
       "dict_keys(['Digi_x', 'Digi_y', 'Digi_z', 'Digi_t', 'Digi_edep', 'Digi_trackID', 'Digi_pdgID', 'Digi_detectorID', 'Digi_type', 'Digi_hitInds', 'Digi_direction'])"
      ]
     },
     "execution_count": 15,
     "metadata": {},
     "output_type": "execute_result"
    }
   ],
   "source": [
    "data_digi.keys()"
   ]
  },
  {
   "cell_type": "code",
   "execution_count": 35,
   "metadata": {},
   "outputs": [],
   "source": [
    "# data_raw[\"Hit_x\"],data_raw[\"Hit_y\"]#, data_raw[\"Hit_z\"], data_raw[\"Hit_detectorID\"]"
   ]
  },
  {
   "cell_type": "code",
   "execution_count": 92,
   "metadata": {},
   "outputs": [
    {
     "data": {
      "text/plain": [
       "{'Digi_x': [-6903.89208984375,\n",
       "  -7817.5,\n",
       "  -9707.5,\n",
       "  -21611.19921875,\n",
       "  -22411.19921875],\n",
       " 'Digi_y': [-8132.5,\n",
       "  -7326.1357421875,\n",
       "  -5715.63818359375,\n",
       "  4217.5,\n",
       "  4900.59912109375],\n",
       " 'Digi_z': [15633.599609375,\n",
       "  14833.599609375,\n",
       "  13233.599609375,\n",
       "  2850.881591796875,\n",
       "  87.5],\n",
       " 'Digi_t': [-303.5856018066406,\n",
       "  -299.8329162597656,\n",
       "  -290.6226501464844,\n",
       "  -226.97994995117188,\n",
       "  -224.97694396972656],\n",
       " 'Digi_edep': [3.2099850177764893,\n",
       "  3.145004987716675,\n",
       "  3.3647079467773438,\n",
       "  2.4782493114471436,\n",
       "  7.796252250671387],\n",
       " 'Digi_trackID': [1, 1, 1, 1, 1],\n",
       " 'Digi_pdgID': [13, 13, 13, 13, 13],\n",
       " 'Digi_detectorID': [500400048,\n",
       "  500300198,\n",
       "  500100252,\n",
       "  100000103180,\n",
       "  100000002892],\n",
       " 'Digi_type': [0, 0, 0, 0, 0],\n",
       " 'Digi_hitInds': [0,\n",
       "  -1,\n",
       "  1,\n",
       "  -1,\n",
       "  2,\n",
       "  -1,\n",
       "  3,\n",
       "  -1,\n",
       "  4,\n",
       "  5,\n",
       "  8,\n",
       "  7,\n",
       "  6,\n",
       "  9,\n",
       "  10,\n",
       "  11,\n",
       "  12,\n",
       "  13,\n",
       "  14,\n",
       "  -1],\n",
       " 'Digi_direction': [12, 102, 102, 210, 120]}"
      ]
     },
     "execution_count": 92,
     "metadata": {},
     "output_type": "execute_result"
    }
   ],
   "source": [
    "data_digi"
   ]
  },
  {
   "cell_type": "code",
   "execution_count": 77,
   "metadata": {},
   "outputs": [
    {
     "data": {
      "text/plain": [
       "vector<Long64_t>{ 1216053862, 1215953168, 1215953178 }"
      ]
     },
     "execution_count": 77,
     "metadata": {},
     "output_type": "execute_result"
    }
   ],
   "source": [
    "f2.tree.Digi_detectorID"
   ]
  }
 ],
 "metadata": {
  "kernelspec": {
   "display_name": "Python 3 (ipykernel)",
   "language": "python",
   "name": "python3"
  },
  "language_info": {
   "codemirror_mode": {
    "name": "ipython",
    "version": 3
   },
   "file_extension": ".py",
   "mimetype": "text/x-python",
   "name": "python",
   "nbconvert_exporter": "python",
   "pygments_lexer": "ipython3",
   "version": "3.10.12"
  }
 },
 "nbformat": 4,
 "nbformat_minor": 4
}
