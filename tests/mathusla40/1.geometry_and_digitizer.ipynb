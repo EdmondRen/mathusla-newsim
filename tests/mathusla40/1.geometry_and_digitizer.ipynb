{
 "cells": [
  {
   "cell_type": "markdown",
   "metadata": {},
   "source": [
    "# 1. Geometry test\n",
    "\n",
    "# 2. Digitizer\n",
    "\n",
    "./simulation -m ../tests/mathusla40/run_parma_mathusla40.mac\n",
    "\n",
    "Run digitizer\n",
    "\n",
    "./digitizer data/run0.root"
   ]
  },
  {
   "cell_type": "code",
   "execution_count": null,
   "metadata": {
    "vscode": {
     "languageId": "plaintext"
    }
   },
   "outputs": [],
   "source": []
  }
 ],
 "metadata": {
  "language_info": {
   "name": "python"
  }
 },
 "nbformat": 4,
 "nbformat_minor": 2
}
