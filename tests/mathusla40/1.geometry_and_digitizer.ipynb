{
 "cells": [
  {
   "cell_type": "markdown",
   "metadata": {},
   "source": [
    "# 1. Geometry test\n",
    "\n",
    "# 2. Digitizer\n",
    "\n",
    "./simulation -m ../tests/mathusla40/run_parma_mathusla40.mac\n",
    "\n",
    "Run digitizer\n",
    "\n",
    "./digitizer data/run0.root"
   ]
  },
  {
   "cell_type": "code",
   "execution_count": 3,
   "metadata": {},
   "outputs": [
    {
     "name": "stdout",
     "output_type": "stream",
     "text": [
      "Welcome to JupyROOT 6.28/10\n"
     ]
    }
   ],
   "source": [
    "import ROOT"
   ]
  },
  {
   "cell_type": "code",
   "execution_count": 78,
   "metadata": {},
   "outputs": [],
   "source": [
    "fname_raw = \"../../build/data/run_0.root\"\n",
    "fname_digi = \"../../build/data/run_0.digi.root\""
   ]
  },
  {
   "cell_type": "code",
   "execution_count": 79,
   "metadata": {},
   "outputs": [],
   "source": [
    "tfile = ROOT.TFile.Open(fname_digi)\n",
    "tree_name = tfile.GetListOfKeys()[1].GetName()\n",
    "Tree = tfile.Get(tree_name)\n",
    "branches = [Tree.GetListOfBranches()[i].GetName() for i in range(len(Tree.GetListOfBranches()))]\n",
    "entries = Tree.GetEntries()\n"
   ]
  },
  {
   "cell_type": "code",
   "execution_count": 80,
   "metadata": {},
   "outputs": [],
   "source": [
    "class tfile:\n",
    "    def __init__(self, filename, verbose=0):\n",
    "        self.file = ROOT.TFile.Open(filename)\n",
    "        self.keys = self.file.GetListOfKeys()\n",
    "\n",
    "    def ls(self):\n",
    "        print(self.file.ls())\n",
    "\n",
    "    def get(self, key):\n",
    "        self.object = self.file.Get(key)\n",
    "        return self.object\n",
    "\n",
    "    def vector2list(self, vector):\n",
    "        return [vector.at(i) for i in range(vector.size())]    \n",
    "\n",
    "    def get_tree(self, key):\n",
    "        self.tree = self.file.Get(key)\n",
    "        self.entries = self.tree.GetEntries()\n",
    "        self.current_entry = -1\n",
    "\n",
    "        # Read the branch name and type\n",
    "        # Make a dictionary for each branch\n",
    "        self.branches = {}\n",
    "        self.branches_disabled = []\n",
    "        self.data = {}\n",
    "        for branch in self.tree.GetListOfBranches():\n",
    "            # Get the leaf for the branch\n",
    "            leaf = branch.GetLeaf(branch.GetName())\n",
    "            # Get the data type of the leaf\n",
    "            data_type = leaf.GetTypeName()\n",
    "            \n",
    "            self.branches[branch.GetName()] = [data_type]\n",
    "        return self.tree\n",
    "\n",
    "\n",
    "    def ls_tree(self):\n",
    "        print(\"Entries:\", self.entries)\n",
    "        # print(\"Branches:\", self.branches)\n",
    "        for b in self.branches:\n",
    "            print(f\"Branch: {b:<20}, Type: {self.branches[b]}\")\n",
    "\n",
    "    def disable_branches(self, branches):\n",
    "        \n",
    "        pass\n",
    "            \n",
    "    def get_entry(self, entry) -> dict:\n",
    "        self.tree.GetEntry(entry)\n",
    "\n",
    "        for b in self.branches:\n",
    "            if \"vector\" in self.branches[b][0]:\n",
    "                self.data[b] = self.vector2list(getattr(self.tree, b))\n",
    "            else:\n",
    "                self.data[b] = getattr(self.tree, b)\n",
    "                \n",
    "        return self.data\n"
   ]
  },
  {
   "cell_type": "code",
   "execution_count": 87,
   "metadata": {},
   "outputs": [
    {
     "name": "stdout",
     "output_type": "stream",
     "text": [
      "None\n",
      "None\n"
     ]
    },
    {
     "data": {
      "text/plain": [
       "<cppyy.gbl.TTree object at 0x55df0ab090c0>"
      ]
     },
     "execution_count": 87,
     "metadata": {},
     "output_type": "execute_result"
    },
    {
     "name": "stdout",
     "output_type": "stream",
     "text": [
      "TFile**\t\t../../build/data/run_0.root\t\n",
      " TFile*\t\t../../build/data/run_0.root\t\n",
      "  KEY: TTree\traw;1\traw\n",
      "  KEY: TTree\tmetadata;1\tSimulation metadata\n",
      "TFile**\t\t../../build/data/run_0.digi.root\t\n",
      " TFile*\t\t../../build/data/run_0.digi.root\t\n",
      "  KEY: TTree\tmetadata;1\tMetadata for digitization\n",
      "  KEY: TTree\tdigi;1\tDigitized Tree\n"
     ]
    }
   ],
   "source": [
    "f1 = tfile(fname_raw)\n",
    "f1.ls()\n",
    "f1.get_tree(\"raw\")\n",
    "# f1.ls_tree()\n",
    "# f1.get_entry(0)\n",
    "\n",
    "f2 = tfile(fname_digi)\n",
    "f2.ls()\n",
    "f2.get_tree(\"digi\")\n"
   ]
  },
  {
   "cell_type": "code",
   "execution_count": 90,
   "metadata": {},
   "outputs": [
    {
     "name": "stdout",
     "output_type": "stream",
     "text": [
      "{ 500400048, 500300198, 500100252, 100000103180, 100000002892 }\n"
     ]
    }
   ],
   "source": [
    "print(f2.tree.Digi_detectorID)"
   ]
  },
  {
   "cell_type": "code",
   "execution_count": 89,
   "metadata": {},
   "outputs": [],
   "source": [
    "for i in range(f1.entries):\n",
    "    data_raw = f1.get_entry(i)\n",
    "    data_digi = f2.get_entry(i)\n",
    "# f.data"
   ]
  },
  {
   "cell_type": "code",
   "execution_count": 95,
   "metadata": {},
   "outputs": [
    {
     "data": {
      "text/plain": [
       "([-6894.87255859375,\n",
       "  -7831.9814453125,\n",
       "  -9702.591796875,\n",
       "  -21616.19921875,\n",
       "  -22410.34765625,\n",
       "  -22413.93359375,\n",
       "  -22416.19921875,\n",
       "  -22416.19921875,\n",
       "  -22412.490234375,\n",
       "  -22412.935546875,\n",
       "  -22413.91796875,\n",
       "  -22414.98046875,\n",
       "  -22414.970703125,\n",
       "  -22413.91015625,\n",
       "  -22413.625,\n",
       "  -7369.37109375,\n",
       "  -7045.2578125,\n",
       "  -6721.14501953125,\n",
       "  -6397.0322265625,\n",
       "  -6072.91943359375,\n",
       "  -1446.1820068359375,\n",
       "  -1444.833984375,\n",
       "  -982.9737548828125,\n",
       "  -1446.18212890625,\n",
       "  -7774.39111328125],\n",
       " [-8134.27783203125,\n",
       "  -7327.7880859375,\n",
       "  -5706.43505859375,\n",
       "  4229.18603515625,\n",
       "  4882.8037109375,\n",
       "  4885.7626953125,\n",
       "  4887.63720703125,\n",
       "  4887.77734375,\n",
       "  4884.76220703125,\n",
       "  4886.732421875,\n",
       "  4884.1025390625,\n",
       "  4882.970703125,\n",
       "  4883.1279296875,\n",
       "  4883.99951171875,\n",
       "  4884.1689453125,\n",
       "  -7521.228515625,\n",
       "  -7024.11474609375,\n",
       "  -6527.00048828125,\n",
       "  -6029.88671875,\n",
       "  -5532.7724609375,\n",
       "  1563.5701904296875,\n",
       "  1565.0223388671875,\n",
       "  2062.56005859375,\n",
       "  1563.5701904296875,\n",
       "  -7144.21337890625])"
      ]
     },
     "execution_count": 95,
     "metadata": {},
     "output_type": "execute_result"
    }
   ],
   "source": [
    "data_raw[\"Hit_x\"],data_raw[\"Hit_y\"]#, data_raw[\"Hit_z\"], data_raw[\"Hit_detectorID\"]"
   ]
  },
  {
   "cell_type": "code",
   "execution_count": 93,
   "metadata": {},
   "outputs": [
    {
     "data": {
      "text/plain": [
       "[0, -1, 1, -1, 2, -1, 3, -1, 4, 5, 8, 7, 6, 9, 10, 11, 12, 13, 14, -1]"
      ]
     },
     "execution_count": 93,
     "metadata": {},
     "output_type": "execute_result"
    }
   ],
   "source": [
    "data_digi[\"Digi_hitInds\"]"
   ]
  },
  {
   "cell_type": "code",
   "execution_count": 92,
   "metadata": {},
   "outputs": [
    {
     "data": {
      "text/plain": [
       "{'Digi_x': [-6903.89208984375,\n",
       "  -7817.5,\n",
       "  -9707.5,\n",
       "  -21611.19921875,\n",
       "  -22411.19921875],\n",
       " 'Digi_y': [-8132.5,\n",
       "  -7326.1357421875,\n",
       "  -5715.63818359375,\n",
       "  4217.5,\n",
       "  4900.59912109375],\n",
       " 'Digi_z': [15633.599609375,\n",
       "  14833.599609375,\n",
       "  13233.599609375,\n",
       "  2850.881591796875,\n",
       "  87.5],\n",
       " 'Digi_t': [-303.5856018066406,\n",
       "  -299.8329162597656,\n",
       "  -290.6226501464844,\n",
       "  -226.97994995117188,\n",
       "  -224.97694396972656],\n",
       " 'Digi_edep': [3.2099850177764893,\n",
       "  3.145004987716675,\n",
       "  3.3647079467773438,\n",
       "  2.4782493114471436,\n",
       "  7.796252250671387],\n",
       " 'Digi_trackID': [1, 1, 1, 1, 1],\n",
       " 'Digi_pdgID': [13, 13, 13, 13, 13],\n",
       " 'Digi_detectorID': [500400048,\n",
       "  500300198,\n",
       "  500100252,\n",
       "  100000103180,\n",
       "  100000002892],\n",
       " 'Digi_type': [0, 0, 0, 0, 0],\n",
       " 'Digi_hitInds': [0,\n",
       "  -1,\n",
       "  1,\n",
       "  -1,\n",
       "  2,\n",
       "  -1,\n",
       "  3,\n",
       "  -1,\n",
       "  4,\n",
       "  5,\n",
       "  8,\n",
       "  7,\n",
       "  6,\n",
       "  9,\n",
       "  10,\n",
       "  11,\n",
       "  12,\n",
       "  13,\n",
       "  14,\n",
       "  -1],\n",
       " 'Digi_direction': [12, 102, 102, 210, 120]}"
      ]
     },
     "execution_count": 92,
     "metadata": {},
     "output_type": "execute_result"
    }
   ],
   "source": [
    "data_digi"
   ]
  },
  {
   "cell_type": "code",
   "execution_count": 77,
   "metadata": {},
   "outputs": [
    {
     "data": {
      "text/plain": [
       "vector<Long64_t>{ 1216053862, 1215953168, 1215953178 }"
      ]
     },
     "execution_count": 77,
     "metadata": {},
     "output_type": "execute_result"
    }
   ],
   "source": [
    "f2.tree.Digi_detectorID"
   ]
  }
 ],
 "metadata": {
  "kernelspec": {
   "display_name": "Python 3 (ipykernel)",
   "language": "python",
   "name": "python3"
  },
  "language_info": {
   "codemirror_mode": {
    "name": "ipython",
    "version": 3
   },
   "file_extension": ".py",
   "mimetype": "text/x-python",
   "name": "python",
   "nbconvert_exporter": "python",
   "pygments_lexer": "ipython3",
   "version": "3.10.12"
  }
 },
 "nbformat": 4,
 "nbformat_minor": 4
}
