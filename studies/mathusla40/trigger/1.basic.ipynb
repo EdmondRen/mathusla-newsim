{
 "cells": [
  {
   "cell_type": "code",
   "execution_count": 7,
   "id": "d082e842-52f8-4266-b75b-0b1644febfff",
   "metadata": {},
   "outputs": [],
   "source": [
    "import sys, os\n",
    "import importlib\n",
    "from importlib import reload\n",
    "\n",
    "import matplotlib\n",
    "import matplotlib.pyplot as plt\n",
    "import matplotlib as mpl\n",
    "import numpy as np\n",
    "import scipy\n",
    "import tqdm\n",
    "import joblib\n",
    "\n",
    "import ROOT"
   ]
  },
  {
   "cell_type": "code",
   "execution_count": 18,
   "id": "c8737edd-fe9d-4f29-a1ef-388acc1082f6",
   "metadata": {},
   "outputs": [
    {
     "name": "stdout",
     "output_type": "stream",
     "text": [
      "Entries 218543\n",
      "Branches ['Digi_x', 'Digi_y', 'Digi_z', 'Digi_t', 'Digi_edep', 'Digi_trackID', 'Digi_pdgID', 'Digi_detectorID', 'Digi_type', 'Digi_hitInds', 'Digi_direction']\n",
      "Entries 9172\n",
      "Branches ['SimEntry', 'Track_x0', 'Track_y0', 'Track_z0', 'Track_t0', 'Track_kx', 'Track_ky', 'Track_kz', 'Track_kt', 'Track_cov', 'Track_chi2', 'Track_id', 'Track_iv_ind', 'Track_iv_err', 'Track_digiInds', 'Vertex_x0', 'Vertex_y0', 'Vertex_z0', 'Vertex_t0', 'Vertex_cov', 'Vertex_chi2', 'Vertex_id', 'Vertex_trackInds', 'Vertex_tracklet_n0', 'Vertex_tracklet_n2', 'Vertex_tracklet_n3', 'Vertex_tracklet_n4p', 'Digi_x', 'Digi_y', 'Digi_z', 'Digi_t', 'Digi_edep', 'Digi_trackID', 'Digi_pdgID', 'Digi_detectorID', 'Digi_type', 'Digi_hitInds', 'Digi_direction', 'Run_number', 'Evt_number', 'Seed_0', 'Seed_1', 'Gen_x', 'Gen_y', 'Gen_z', 'Gen_t', 'Gen_px', 'Gen_py', 'Gen_pz', 'Gen_pdgID', 'Gen_index', 'Vertex_selected_ind']\n"
     ]
    }
   ],
   "source": [
    "data_dir = \"/home/tomren/geant_projects/musim_test\"\n",
    "fname_bkg = f\"{data_dir}/cosmic_all/run_1_digi.root\"\n",
    "fname_sig = f\"{data_dir}/llp_hxx_bb/run_25_digi_cosmic_recon_skim.root\"\n",
    "\n",
    "## Open Background file\n",
    "fbkg = ROOT.TFile(fname_bkg)\n",
    "tree_bkg = fbkg.Get(\"data\")\n",
    "entries = tree_bkg.GetEntries()\n",
    "branches = [b.GetName() for b in tree_bkg.GetListOfBranches()]\n",
    "print(\"Entries\", entries)\n",
    "print(\"Branches\", branches)\n",
    "\n",
    "## Open Signal file\n",
    "fsig = ROOT.TFile(fname_sig)\n",
    "tree_sig = fsig.Get(\"data\")\n",
    "entries = tree_sig.GetEntries()\n",
    "branches = [b.GetName() for b in tree_sig.GetListOfBranches()]\n",
    "print(\"Entries\", entries)\n",
    "print(\"Branches\", branches)"
   ]
  },
  {
   "cell_type": "code",
   "execution_count": 19,
   "id": "1c023a7a-c60e-46df-9de7-d390f1c26dde",
   "metadata": {},
   "outputs": [],
   "source": [
    "nhits_bkg = []\n",
    "for i in range(tree_bkg.GetEntries()):\n",
    "    tree_bkg.GetEntry(i)\n",
    "    nhits_bkg.append(len(tree_bkg.Digi_x))\n",
    "\n",
    "nhits_sig = []\n",
    "for i in range(tree_sig.GetEntries()):\n",
    "    tree_sig.GetEntry(i)\n",
    "    nhits_sig.append(len(tree_sig.Digi_x))    "
   ]
  },
  {
   "cell_type": "code",
   "execution_count": 26,
   "id": "07227566-2b54-4bd7-a9b4-9c5adda80f30",
   "metadata": {},
   "outputs": [
    {
     "data": {
      "text/plain": [
       "Text(0.5, 0, '#hits per event')"
      ]
     },
     "execution_count": 26,
     "metadata": {},
     "output_type": "execute_result"
    },
    {
     "data": {
      "image/png": "[encoded data removed]",
      "text/plain": [
       "<Figure size 640x480 with 1 Axes>"
      ]
     },
     "metadata": {},
     "output_type": "display_data"
    }
   ],
   "source": [
    "plt.hist(nhits_bkg, bins=150, range=(0,150), alpha=0.7);\n",
    "plt.hist(nhits_sig, bins=150, range=(0,150), alpha=0.7);\n",
    "plt.yscale(\"log\")\n",
    "plt.xlabel(\"#hits per event\")"
   ]
  },
  {
   "cell_type": "code",
   "execution_count": null,
   "id": "847bc23e-1d83-4040-b3d8-23e4a4467def",
   "metadata": {},
   "outputs": [],
   "source": []
  }
 ],
 "metadata": {
  "kernelspec": {
   "display_name": "Python 3 (ipykernel)",
   "language": "python",
   "name": "python3"
  },
  "language_info": {
   "codemirror_mode": {
    "name": "ipython",
    "version": 3
   },
   "file_extension": ".py",
   "mimetype": "text/x-python",
   "name": "python",
   "nbconvert_exporter": "python",
   "pygments_lexer": "ipython3",
   "version": "3.10.12"
  }
 },
 "nbformat": 4,
 "nbformat_minor": 5
}
