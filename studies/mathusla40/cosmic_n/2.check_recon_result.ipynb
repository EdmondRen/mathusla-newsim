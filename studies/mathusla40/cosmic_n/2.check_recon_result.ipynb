{
 "cells": [
  {
   "cell_type": "code",
   "execution_count": 1,
   "id": "c22ea111-834c-411c-870f-32aecee07636",
   "metadata": {},
   "outputs": [
    {
     "name": "stdout",
     "output_type": "stream",
     "text": [
      "Welcome to JupyROOT 6.28/10\n"
     ]
    }
   ],
   "source": [
    "import sys, os\n",
    "import importlib\n",
    "from importlib import reload\n",
    "# importlib.import_module(module_name)\n",
    "sys.path.append(\"../../../python\")\n",
    "\n",
    "import matplotlib.pyplot as plt\n",
    "import numpy as np\n",
    "import scipy\n",
    "import tqdm\n",
    "\n",
    "from simhelper import util, root, generator, parser\n",
    "from simhelper import datatypes\n",
    "from simhelper import helper_basic as hp\n",
    "reload(parser)\n",
    "reload(datatypes)\n",
    "\n",
    "np.set_printoptions(edgeitems=30, linewidth=100000, \n",
    "    precision=3)"
   ]
  },
  {
   "cell_type": "markdown",
   "id": "6bda2462-22c3-4a66-b920-46db1b67d29d",
   "metadata": {},
   "source": [
    "## Commands\n",
    "\n",
    "We first do a single run and check the distribution of generated particles \n",
    "\n",
    "_submit_series.sh"
   ]
  },
  {
   "cell_type": "code",
   "execution_count": 24,
   "id": "7e70ffec-d240-4199-8298-d18100d2b462",
   "metadata": {},
   "outputs": [
    {
     "name": "stdout",
     "output_type": "stream",
     "text": [
      "None\n",
      "Entries 424\n",
      "TFile**\t\t../../../../musim_test//series_2_digi_recon.root\t\n",
      " TFile*\t\t../../../../musim_test//series_2_digi_recon.root\t\n",
      "  OBJ: TTree\tmetadata\tMetadata for digitization : 0 at: 0x556bd90c2880\n",
      "  KEY: TTree\tmetadata;3\tSimulation metadata [current cycle]\n",
      "  KEY: TTree\tmetadata;2\tMetadata for digitization [backup cycle]\n",
      "  KEY: TTree\tmetadata;1\tMetadata for reconstruction [backup cycle]\n",
      "  KEY: TTree\tdata;1\tReconstruction Tree\n"
     ]
    }
   ],
   "source": [
    "data_dir=\"../../../../musim_test/\"\n",
    "fname_comb = f\"{data_dir}/series_2_digi_recon.root\"\n",
    "# fname_comb = f\"{data_dir}/series_2_digi_recon_skim.root\"\n",
    "\n",
    "# data_dir=\"/home/tomren/data/simulation/temp/musim_test/cosmic\"\n",
    "# fname_comb = f\"{data_dir}/run_2_digi_recon.root\"\n",
    "\n",
    "f2 = root.tfile_reader(fname_comb)\n",
    "# Get metadata\n",
    "f2.get_tree(\"metadata;2\")\n",
    "metadata_digi = f2.get_entry(0)\n",
    "\n",
    "f2.ls()\n",
    "f2.get_tree(\"data\")\n",
    "print(\"Entries\", f2.entries)"
   ]
  },
  {
   "cell_type": "code",
   "execution_count": 22,
   "id": "8246e6cd-76e6-48df-8c51-73e4c518793f",
   "metadata": {},
   "outputs": [
    {
     "name": "stdout",
     "output_type": "stream",
     "text": [
      "dict_keys(['SimEntry', 'Track_x0', 'Track_y0', 'Track_z0', 'Track_t0', 'Track_kx', 'Track_ky', 'Track_kz', 'Track_kt', 'Track_cov', 'Track_chi2', 'Track_id', 'Track_iv_ind', 'Track_iv_err', 'Track_digiInds', 'Vertex_x0', 'Vertex_y0', 'Vertex_z0', 'Vertex_t0', 'Vertex_cov', 'Vertex_chi2', 'Vertex_id', 'Vertex_trackInds', 'Vertex_tracklet_n0', 'Vertex_tracklet_n2', 'Vertex_tracklet_n3', 'Vertex_tracklet_n4p', 'Digi_x', 'Digi_y', 'Digi_z', 'Digi_t', 'Digi_edep', 'Digi_trackID', 'Digi_pdgID', 'Digi_detectorID', 'Digi_type', 'Digi_hitInds', 'Digi_direction', 'Run_number', 'Evt_number', 'Seed_0', 'Seed_1', 'Gen_x', 'Gen_y', 'Gen_z', 'Gen_t', 'Gen_px', 'Gen_py', 'Gen_pz', 'Gen_pdgID', 'Gen_index'])\n"
     ]
    }
   ],
   "source": [
    "data = f2.get_entry(0)\n",
    "print(data.keys())"
   ]
  },
  {
   "cell_type": "code",
   "execution_count": 23,
   "id": "ea9d95fc-e933-405b-8a47-e25c4dc5ef5d",
   "metadata": {},
   "outputs": [
    {
     "name": "stdout",
     "output_type": "stream",
     "text": [
      "2\n"
     ]
    },
    {
     "ename": "KeyError",
     "evalue": "'Uncertainty_x'",
     "output_type": "error",
     "traceback": [
      "\u001b[0;31m---------------------------------------------------------------------------\u001b[0m",
      "\u001b[0;31mKeyError\u001b[0m                                  Traceback (most recent call last)",
      "Cell \u001b[0;32mIn[23], line 6\u001b[0m\n\u001b[1;32m      3\u001b[0m \u001b[38;5;28mprint\u001b[39m(i)\n\u001b[1;32m      5\u001b[0m data \u001b[38;5;241m=\u001b[39m f2\u001b[38;5;241m.\u001b[39mget_entry(i)\n\u001b[0;32m----> 6\u001b[0m event \u001b[38;5;241m=\u001b[39m \u001b[43mdatatypes\u001b[49m\u001b[38;5;241;43m.\u001b[39;49m\u001b[43mEvent\u001b[49m\u001b[43m(\u001b[49m\u001b[43mdata\u001b[49m\u001b[43m,\u001b[49m\u001b[43m \u001b[49m\u001b[43mmetadata_digi\u001b[49m\u001b[43m)\u001b[49m  \n\u001b[1;32m      7\u001b[0m event\u001b[38;5;241m.\u001b[39mplot()\n",
      "File \u001b[0;32m~/geant_projects/mathusla-newsim/studies/mathusla40/cosmic_n/../../../python/simhelper/datatypes.py:223\u001b[0m, in \u001b[0;36mEvent.__init__\u001b[0;34m(self, data_parsed, metadata_digi)\u001b[0m\n\u001b[1;32m    220\u001b[0m     \u001b[38;5;28mself\u001b[39m\u001b[38;5;241m.\u001b[39mHAS_TRUTH \u001b[38;5;241m=\u001b[39m \u001b[38;5;28;01mFalse\u001b[39;00m\n\u001b[1;32m    222\u001b[0m \u001b[38;5;66;03m# Get Digits\u001b[39;00m\n\u001b[0;32m--> 223\u001b[0m \u001b[38;5;28mself\u001b[39m\u001b[38;5;241m.\u001b[39mdigis \u001b[38;5;241m=\u001b[39m np\u001b[38;5;241m.\u001b[39marray([Digi(data_parsed,i, metadata_digi) \u001b[38;5;28;01mfor\u001b[39;00m i \u001b[38;5;129;01min\u001b[39;00m \u001b[38;5;28mrange\u001b[39m(\u001b[38;5;28mlen\u001b[39m(data_parsed[\u001b[38;5;124m\"\u001b[39m\u001b[38;5;124mDigi_x\u001b[39m\u001b[38;5;124m\"\u001b[39m]))])\n\u001b[1;32m    224\u001b[0m \u001b[38;5;28mself\u001b[39m\u001b[38;5;241m.\u001b[39mget_reconstructable()\n\u001b[1;32m    226\u001b[0m \u001b[38;5;66;03m# Get recon tracks\u001b[39;00m\n",
      "File \u001b[0;32m~/geant_projects/mathusla-newsim/studies/mathusla40/cosmic_n/../../../python/simhelper/datatypes.py:223\u001b[0m, in \u001b[0;36m<listcomp>\u001b[0;34m(.0)\u001b[0m\n\u001b[1;32m    220\u001b[0m     \u001b[38;5;28mself\u001b[39m\u001b[38;5;241m.\u001b[39mHAS_TRUTH \u001b[38;5;241m=\u001b[39m \u001b[38;5;28;01mFalse\u001b[39;00m\n\u001b[1;32m    222\u001b[0m \u001b[38;5;66;03m# Get Digits\u001b[39;00m\n\u001b[0;32m--> 223\u001b[0m \u001b[38;5;28mself\u001b[39m\u001b[38;5;241m.\u001b[39mdigis \u001b[38;5;241m=\u001b[39m np\u001b[38;5;241m.\u001b[39marray([\u001b[43mDigi\u001b[49m\u001b[43m(\u001b[49m\u001b[43mdata_parsed\u001b[49m\u001b[43m,\u001b[49m\u001b[43mi\u001b[49m\u001b[43m,\u001b[49m\u001b[43m \u001b[49m\u001b[43mmetadata_digi\u001b[49m\u001b[43m)\u001b[49m \u001b[38;5;28;01mfor\u001b[39;00m i \u001b[38;5;129;01min\u001b[39;00m \u001b[38;5;28mrange\u001b[39m(\u001b[38;5;28mlen\u001b[39m(data_parsed[\u001b[38;5;124m\"\u001b[39m\u001b[38;5;124mDigi_x\u001b[39m\u001b[38;5;124m\"\u001b[39m]))])\n\u001b[1;32m    224\u001b[0m \u001b[38;5;28mself\u001b[39m\u001b[38;5;241m.\u001b[39mget_reconstructable()\n\u001b[1;32m    226\u001b[0m \u001b[38;5;66;03m# Get recon tracks\u001b[39;00m\n",
      "File \u001b[0;32m~/geant_projects/mathusla-newsim/studies/mathusla40/cosmic_n/../../../python/simhelper/datatypes.py:67\u001b[0m, in \u001b[0;36mDigi.__init__\u001b[0;34m(self, data, i, metadata_digi)\u001b[0m\n\u001b[1;32m     65\u001b[0m \u001b[38;5;66;03m# unc_xyzt = [metadata_digi[\"Uncertainty_x\"], metadata_digi[\"Uncertainty_y\"], metadata_digi[\"Uncertainty_z\"], metadata_digi[\"Uncertainty_t\"]]\u001b[39;00m\n\u001b[1;32m     66\u001b[0m \u001b[38;5;28mself\u001b[39m\u001b[38;5;241m.\u001b[39merr4 \u001b[38;5;241m=\u001b[39m np\u001b[38;5;241m.\u001b[39mzeros(\u001b[38;5;241m4\u001b[39m)\n\u001b[0;32m---> 67\u001b[0m \u001b[38;5;28mself\u001b[39m\u001b[38;5;241m.\u001b[39merr4[direction_x] \u001b[38;5;241m=\u001b[39m \u001b[43mmetadata_digi\u001b[49m\u001b[43m[\u001b[49m\u001b[38;5;124;43m\"\u001b[39;49m\u001b[38;5;124;43mUncertainty_x\u001b[39;49m\u001b[38;5;124;43m\"\u001b[39;49m\u001b[43m]\u001b[49m\n\u001b[1;32m     68\u001b[0m \u001b[38;5;28mself\u001b[39m\u001b[38;5;241m.\u001b[39merr4[direction_y] \u001b[38;5;241m=\u001b[39m metadata_digi[\u001b[38;5;124m\"\u001b[39m\u001b[38;5;124mUncertainty_y\u001b[39m\u001b[38;5;124m\"\u001b[39m]\n\u001b[1;32m     69\u001b[0m \u001b[38;5;28mself\u001b[39m\u001b[38;5;241m.\u001b[39merr4[direction_z] \u001b[38;5;241m=\u001b[39m metadata_digi[\u001b[38;5;124m\"\u001b[39m\u001b[38;5;124mUncertainty_z\u001b[39m\u001b[38;5;124m\"\u001b[39m]\n",
      "\u001b[0;31mKeyError\u001b[0m: 'Uncertainty_x'"
     ]
    }
   ],
   "source": [
    "i=2\n",
    "# i+=1\n",
    "print(i)\n",
    "\n",
    "data = f2.get_entry(i)\n",
    "event = datatypes.Event(data, metadata_digi)  \n",
    "event.plot()"
   ]
  },
  {
   "cell_type": "code",
   "execution_count": null,
   "id": "9d1a949c-c7d9-43e9-9fce-6e722cbd8b13",
   "metadata": {},
   "outputs": [],
   "source": [
    "./skim /home/tomren/data/simulation/temp/musim_test/cosmic/run_2_digi_recon.root"
   ]
  }
 ],
 "metadata": {
  "kernelspec": {
   "display_name": "Python 3 (ipykernel)",
   "language": "python",
   "name": "python3"
  },
  "language_info": {
   "codemirror_mode": {
    "name": "ipython",
    "version": 3
   },
   "file_extension": ".py",
   "mimetype": "text/x-python",
   "name": "python",
   "nbconvert_exporter": "python",
   "pygments_lexer": "ipython3",
   "version": "3.10.12"
  }
 },
 "nbformat": 4,
 "nbformat_minor": 5
}
