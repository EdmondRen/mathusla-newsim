{
 "cells": [
  {
   "cell_type": "code",
   "execution_count": 2,
   "id": "2f1e0158-e811-461f-b864-fefc8552bc6b",
   "metadata": {},
   "outputs": [
    {
     "name": "stdout",
     "output_type": "stream",
     "text": [
      "Welcome to JupyROOT 6.28/10\n"
     ]
    }
   ],
   "source": [
    "import sys, os\n",
    "import importlib\n",
    "from importlib import reload\n",
    "# importlib.import_module(module_name)\n",
    "\n",
    "import matplotlib\n",
    "import matplotlib.pyplot as plt\n",
    "import matplotlib as mpl\n",
    "import numpy as np\n",
    "import scipy\n",
    "import tqdm\n",
    "import joblib\n",
    "\n",
    "sys.path.append(\"../../../python\")\n",
    "from simhelper import util, root, generator, parser\n",
    "from simhelper import datatypes\n",
    "from simhelper import helper_basic as hp\n",
    "reload(parser)\n",
    "reload(datatypes)\n",
    "\n",
    "sys.path.append(\"..\")\n",
    "import cut_functions\n",
    "reload(cut_functions)\n",
    "\n",
    "\n",
    "# # importing required libraries \n",
    "# import ipympl\n",
    "# # %matplotlib inline \n",
    "# %matplotlib widget \n",
    "\n",
    "np.set_printoptions(edgeitems=30, linewidth=100000, \n",
    "    precision=3)"
   ]
  },
  {
   "cell_type": "code",
   "execution_count": 3,
   "id": "844cc095-fbcc-4a43-a34f-6c8e0749ca99",
   "metadata": {},
   "outputs": [
    {
     "name": "stdout",
     "output_type": "stream",
     "text": [
      "None\n",
      "Entries 839934\n",
      "None\n",
      "Entries 290908\n",
      "None\n",
      "Entries 9172\n",
      "None\n",
      "Entries 9120\n",
      "TFile**\t\t/home/tomren/geant_projects/musim_test//cedar/cosmic/cosmic_p/merged_p_1200runs.root\t\n",
      " TFile*\t\t/home/tomren/geant_projects/musim_test//cedar/cosmic/cosmic_p/merged_p_1200runs.root\t\n",
      "  KEY: TTree\tmetadata;1\tMetadata for reconstruction\n",
      "  KEY: TTree\tmetadata_digi;1\tMetadata for digitization\n",
      "  KEY: TTree\tmetadata_recon;1\tSimulation metadata\n",
      "  KEY: TParameter<int>\tN_MERGED;1\t\n",
      "  KEY: TTree\tdata;1\tReconstruction Tree Skimmed\n",
      "TFile**\t\t/home/tomren/geant_projects/musim_test//cedar/cosmic/cosmic_n/merged_n_2172runs.root\t\n",
      " TFile*\t\t/home/tomren/geant_projects/musim_test//cedar/cosmic/cosmic_n/merged_n_2172runs.root\t\n",
      "  KEY: TTree\tmetadata;1\tMetadata for reconstruction\n",
      "  KEY: TTree\tmetadata_digi;1\tMetadata for digitization\n",
      "  KEY: TTree\tmetadata_recon;1\tSimulation metadata\n",
      "  KEY: TParameter<int>\tN_MERGED;1\t\n",
      "  KEY: TTree\tdata;1\tReconstruction Tree Skimmed\n",
      "TFile**\t\t/home/tomren/geant_projects/musim_test//llp_hxx_bb/run_25_digi_cosmic_recon_skim.root\t\n",
      " TFile*\t\t/home/tomren/geant_projects/musim_test//llp_hxx_bb/run_25_digi_cosmic_recon_skim.root\t\n",
      "  KEY: TTree\tmetadata;1\tMetadata for reconstruction\n",
      "  KEY: TTree\tmetadata_digi;1\tMetadata for digitization\n",
      "  KEY: TTree\tmetadata_recon;1\tSimulation metadata\n",
      "  KEY: TTree\tdata;1\tReconstruction Tree Skimmed\n",
      "TFile**\t\t/home/tomren/geant_projects/musim_test//llp_hxx_bb/run_45_digi_cosmic_recon_skim.root\t\n",
      " TFile*\t\t/home/tomren/geant_projects/musim_test//llp_hxx_bb/run_45_digi_cosmic_recon_skim.root\t\n",
      "  KEY: TTree\tmetadata;1\tMetadata for reconstruction\n",
      "  KEY: TTree\tmetadata_digi;1\tMetadata for digitization\n",
      "  KEY: TTree\tmetadata_recon;1\tSimulation metadata\n",
      "  KEY: TTree\tdata;1\tReconstruction Tree Skimmed\n"
     ]
    }
   ],
   "source": [
    "data_dir=\"/home/tomren/geant_projects/musim_test/\"\n",
    "fname_comb_p = f\"{data_dir}/cedar/cosmic/cosmic_p/merged_p_1200runs.root\"\n",
    "fname_comb_n = f\"{data_dir}/cedar/cosmic/cosmic_n/merged_n_2172runs.root\"\n",
    "fname_sig1 =   f\"{data_dir}/llp_hxx_bb/run_25_digi_cosmic_recon_skim.root\"\n",
    "fname_sig2 =   f\"{data_dir}/llp_hxx_bb/run_45_digi_cosmic_recon_skim.root\"\n",
    "\n",
    "fbkg = root.tfile_reader(fname_comb_p)\n",
    "fbkg.ls()\n",
    "## Get metadata\n",
    "fbkg.get_tree(\"metadata_digi\")\n",
    "metadata_digi = fbkg.get_entry(0)\n",
    "fbkg.get_tree(\"data;1\")\n",
    "print(\"Entries\", fbkg.entries)\n",
    "\n",
    "fbkg_n = root.tfile_reader(fname_comb_n)\n",
    "fbkg_n.ls()\n",
    "fbkg_n.get_tree(\"data;1\")\n",
    "print(\"Entries\", fbkg_n.entries)\n",
    "\n",
    "fsig1 = root.tfile_reader(fname_sig1)\n",
    "fsig1.ls()\n",
    "fsig1.get_tree(\"data;1\")\n",
    "print(\"Entries\", fsig1.entries)\n",
    "\n",
    "fsig2 = root.tfile_reader(fname_sig2)\n",
    "fsig2.ls()\n",
    "fsig2.get_tree(\"data;1\")\n",
    "print(\"Entries\", fsig2.entries)"
   ]
  },
  {
   "cell_type": "code",
   "execution_count": null,
   "id": "22b8f151-d957-44b9-9009-003e6388db24",
   "metadata": {},
   "outputs": [],
   "source": [
    "reload = True\n",
    "save = True\n",
    "\n",
    "efficiency = 0.95\n",
    "\n",
    "if reload:\n",
    "    # entries = 100000\n",
    "    entries = -1\n",
    "    res_bkg = cut_functions.run_processing(fbkg, entries=entries, efficiency = efficiency);\n",
    "    if save:\n",
    "        joblib.dump(res_bkg.data, f\"{data_dir}/cedar/cosmic/cosmic_p/skim/rrq_bkg_eff{efficiency:.2f}.joblib\")\n",
    "\n",
    "    res_bkg_n = cut_functions.run_processing(fbkg_n, entries=entries, efficiency = efficiency);\n",
    "    if save:\n",
    "        joblib.dump(res_bkg.data, f\"{data_dir}/cedar/cosmic/cosmic_n/skim/rrq_bkg_eff{efficiency:.2f}.joblib\")    \n",
    "    \n",
    "    # entries = 2000\n",
    "    entries = -1\n",
    "\n",
    "    # Run on signal\n",
    "    res_sig1 = cut_functions.run_processing(fsig1, entries=entries, efficiency = efficiency);\n",
    "    res_sig2 = cut_functions.run_processing(fsig2, entries=entries, efficiency = efficiency);\n",
    "    if save:\n",
    "        joblib.dump(res_sig1.data, f\"{data_dir}/cedar/cosmic/cosmic_p/skim/rrq_sig1_cosmic_eff{efficiency:.2f}.joblib\")\n",
    "        joblib.dump(res_sig2.data, f\"{data_dir}/cedar/cosmic/cosmic_p/skim/rrq_sig2_cosmic_eff{efficiency:.2f}.joblib\")\n",
    "\n",
    "else:\n",
    "    res_bkg_data = joblib.load(f\"/{data_dir}/cedar/cosmic/cosmic_p/skim/rrq_bkg_eff{efficiency:.2f}.joblib\")\n",
    "    res_sig1_data = joblib.load(f\"/{data_dir}/cedar/cosmic/cosmic_p/skim/rrq_sig1_cosmic_eff{efficiency:.2f}.joblib\")\n",
    "    res_sig2_data = joblib.load(f\"/{data_dir}/cedar/cosmic/cosmic_p/skim/rrq_sig2_cosmic_eff{efficiency:.2f}.joblib\")    \n",
    "    res_bkg = cut_functions.RQ_dict(res_bkg_data)\n",
    "    res_sig1 = cut_functions.RQ_dict(res_sig1_data)\n",
    "    res_sig2 = cut_functions.RQ_dict(res_sig2_data)"
   ]
  },
  {
   "cell_type": "code",
   "execution_count": 6,
   "id": "4803eb48-dee3-460d-87c1-7fda34e0b37b",
   "metadata": {},
   "outputs": [
    {
     "data": {
      "text/plain": [
       "['/home/tomren/geant_projects/musim_test//cedar/cosmic/cosmic_n/skim/rrq_bkg_eff0.95.joblib']"
      ]
     },
     "execution_count": 6,
     "metadata": {},
     "output_type": "execute_result"
    }
   ],
   "source": [
    "efficiency = 0.95\n",
    "entries=-1\n",
    "res_bkg_n = cut_functions.run_processing(fbkg_n, entries=entries, efficiency = efficiency);\n",
    "joblib.dump(res_bkg_n.data, f\"{data_dir}/cedar/cosmic/cosmic_n/skim/rrq_bkg_eff{efficiency:.2f}.joblib\")   "
   ]
  }
 ],
 "metadata": {
  "kernelspec": {
   "display_name": "Python 3 (ipykernel)",
   "language": "python",
   "name": "python3"
  },
  "language_info": {
   "codemirror_mode": {
    "name": "ipython",
    "version": 3
   },
   "file_extension": ".py",
   "mimetype": "text/x-python",
   "name": "python",
   "nbconvert_exporter": "python",
   "pygments_lexer": "ipython3",
   "version": "3.10.12"
  }
 },
 "nbformat": 4,
 "nbformat_minor": 5
}
