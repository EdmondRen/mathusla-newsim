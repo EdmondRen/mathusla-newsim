{
 "cells": [
  {
   "cell_type": "code",
   "execution_count": null,
   "id": "dc0bdc35-e60e-410e-a0ea-d4086bd299dd",
   "metadata": {},
   "outputs": [],
   "source": [
    "import sys, os\n",
    "import importlib\n",
    "from importlib import reload\n",
    "# importlib.import_module(module_name)\n",
    "\n",
    "import matplotlib\n",
    "import matplotlib.pyplot as plt\n",
    "import matplotlib as mpl\n",
    "import numpy as np\n",
    "import scipy\n",
    "import tqdm\n",
    "import joblib\n",
    "\n",
    "sys.path.append(\"../../../python\")\n",
    "from simhelper import util, root, generator, parser\n",
    "from simhelper import datatypes\n",
    "from simhelper import helper_basic as hp\n",
    "reload(parser)\n",
    "reload(datatypes)\n",
    "\n",
    "sys.path.append(\"..\")\n",
    "import cut_functions\n",
    "reload(cut_functions)\n",
    "\n",
    "np.set_printoptions(edgeitems=30, linewidth=100000, \n",
    "    precision=3)"
   ]
  },
  {
   "cell_type": "code",
   "execution_count": null,
   "id": "708bc04d-6910-4342-a905-3f8c5c0bbc25",
   "metadata": {},
   "outputs": [],
   "source": [
    "res_bkg_data = joblib.load(f\"/home/tomren/geant_projects/musim_test/cedar/cosmic/cosmic_p/skim/rrq_bkg_eff{efficiency:.2f}.joblib\")\n",
    "res_sig1_data = joblib.load(f\"/home/tomren/geant_projects/musim_test/cedar/cosmic/cosmic_p/skim/rrq_sig1_cosmic_eff{efficiency:.2f}.joblib\")\n",
    "res_sig2_data = joblib.load(f\"/home/tomren/geant_projects/musim_test/cedar/cosmic/cosmic_p/skim/rrq_sig2_cosmic_eff{efficiency:.2f}.joblib\")    \n",
    "res_bkg = cut_functions.RQ_dict(res_bkg_data)\n",
    "res_sig1 = cut_functions.RQ_dict(res_sig1_data)\n",
    "res_sig2 = cut_functions.RQ_dict(res_sig2_data)"
   ]
  },
  {
   "cell_type": "code",
   "execution_count": null,
   "id": "af4b0352-a476-47b7-81cf-6096e6e6373c",
   "metadata": {},
   "outputs": [],
   "source": [
    "for i, res in enumerate([res_sig1, res_sig2, res_bkg]):\n",
    "    # plt.hist(res[\"vertex_ntracks\"] - res[\"vertex_ndownward_track\"], bins=20,range=(0,20), alpha=0.5);\n",
    "    res.add_cut(lambda res: res[\"vertex_ntracks\"]>2, \"N_tracks\")\n",
    "    res.add_cut(lambda res: np.ones_like(res[\"vertex_ntracks\"], dtype=bool), \"True\")"
   ]
  }
 ],
 "metadata": {
  "kernelspec": {
   "display_name": "Python 3 (ipykernel)",
   "language": "python",
   "name": "python3"
  },
  "language_info": {
   "codemirror_mode": {
    "name": "ipython",
    "version": 3
   },
   "file_extension": ".py",
   "mimetype": "text/x-python",
   "name": "python",
   "nbconvert_exporter": "python",
   "pygments_lexer": "ipython3",
   "version": "3.10.12"
  }
 },
 "nbformat": 4,
 "nbformat_minor": 5
}
