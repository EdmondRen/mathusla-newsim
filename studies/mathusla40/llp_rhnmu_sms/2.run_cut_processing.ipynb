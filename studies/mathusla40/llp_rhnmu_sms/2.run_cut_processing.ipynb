{
 "cells": [
  {
   "cell_type": "code",
   "execution_count": 14,
   "id": "2a59f21d-c3ab-4ac4-823e-f32b0827dad4",
   "metadata": {},
   "outputs": [
    {
     "data": {
      "text/plain": [
       "<module 'cut_functions' from '/home/tomren/geant_projects/mathusla-newsim/studies/mathusla40/llp_rhnmu_sms/../cut_functions.py'>"
      ]
     },
     "execution_count": 14,
     "metadata": {},
     "output_type": "execute_result"
    }
   ],
   "source": [
    "import sys, os\n",
    "import importlib\n",
    "from importlib import reload\n",
    "# importlib.import_module(module_name)\n",
    "\n",
    "import matplotlib\n",
    "import matplotlib.pyplot as plt\n",
    "import matplotlib as mpl\n",
    "import numpy as np\n",
    "import scipy\n",
    "import tqdm\n",
    "import joblib\n",
    "\n",
    "sys.path.append(\"../../../python\")\n",
    "from simhelper import util, root, generator, parser\n",
    "from simhelper import datatypes\n",
    "from simhelper import helper_basic as hp\n",
    "\n",
    "sys.path.append(\"..\")\n",
    "import cut_functions\n",
    "reload(cut_functions)"
   ]
  },
  {
   "cell_type": "code",
   "execution_count": 15,
   "id": "0ab0e09b-d6c5-4c51-aa1c-ea629282a958",
   "metadata": {},
   "outputs": [],
   "source": [
    "data_dir=\"/home/tomren/geant_projects/musim_test/\"\n",
    "\n",
    "efficiency = 0.95\n",
    "entries = -1"
   ]
  },
  {
   "cell_type": "markdown",
   "id": "859dc30b-974f-4c6e-9f84-6e59ae34a1e2",
   "metadata": {},
   "source": [
    "# Process backgrounds"
   ]
  },
  {
   "cell_type": "code",
   "execution_count": 16,
   "id": "844cc095-fbcc-4a43-a34f-6c8e0749ca99",
   "metadata": {},
   "outputs": [
    {
     "name": "stdout",
     "output_type": "stream",
     "text": [
      "None\n",
      "Entries 839934\n",
      "Entries 290908\n",
      "Entries 30\n",
      "Entries 24729\n",
      "TFile**\t\t/home/tomren/geant_projects/musim_test//cedar/cosmic/cosmic_p/merged_p_1200runs.root\t\n",
      " TFile*\t\t/home/tomren/geant_projects/musim_test//cedar/cosmic/cosmic_p/merged_p_1200runs.root\t\n",
      "  KEY: TTree\tmetadata;1\tMetadata for reconstruction\n",
      "  KEY: TTree\tmetadata_digi;1\tMetadata for digitization\n",
      "  KEY: TTree\tmetadata_recon;1\tSimulation metadata\n",
      "  KEY: TParameter<int>\tN_MERGED;1\t\n",
      "  KEY: TTree\tdata;1\tReconstruction Tree Skimmed\n"
     ]
    }
   ],
   "source": [
    "fname_comb_p = f\"{data_dir}/cedar/cosmic/cosmic_p/merged_p_1200runs.root\"\n",
    "fname_comb_n = f\"{data_dir}/cedar/cosmic/cosmic_n/merged_n_2172runs.root\"\n",
    "fname_comb_v = f\"{data_dir}/cedar/neutrino/merged.root\" # On cedar: /project/6049244/data/MATHUSLA/simulation/run-2024-07-cosmic-neutrino/v2_recon_and_skim/merged.root\n",
    "fname_comb_mu = f\"{data_dir}/cedar/muon/merged.root\"# On cedar: /project/6049244/data/MATHUSLA/simulation//run-2024-07-mathusla40-full/v2_recon_and_skim/merged.root\n",
    "\n",
    "fbkg = root.tfile_reader(fname_comb_p)\n",
    "fbkg.ls()\n",
    "## Get metadata\n",
    "fbkg.get_tree(\"metadata_digi\")\n",
    "metadata_digi = fbkg.get_entry(0)\n",
    "fbkg.get_tree(\"data;1\")\n",
    "print(\"Entries\", fbkg.entries)\n",
    "\n",
    "fbkg_n = root.tfile_reader(fname_comb_n)\n",
    "# fbkg_n.ls()\n",
    "fbkg_n.get_tree(\"data;1\")\n",
    "print(\"Entries\", fbkg_n.entries)\n",
    "\n",
    "fbkg_v = root.tfile_reader(fname_comb_v)\n",
    "# fbkg_n.ls()\n",
    "fbkg_v.get_tree(\"data;1\")\n",
    "print(\"Entries\", fbkg_v.entries)\n",
    "\n",
    "fbkg_mu = root.tfile_reader(fname_comb_mu)\n",
    "# fbkg_n.ls()\n",
    "fbkg_mu.get_tree(\"data;1\")\n",
    "print(\"Entries\", fbkg_mu.entries)"
   ]
  },
  {
   "cell_type": "code",
   "execution_count": 17,
   "id": "22b8f151-d957-44b9-9009-003e6388db24",
   "metadata": {},
   "outputs": [
    {
     "name": "stdout",
     "output_type": "stream",
     "text": [
      "Entries 839934\n",
      "Finished\n",
      "Entries 290908\n",
      "Finished\n"
     ]
    },
    {
     "data": {
      "text/plain": [
       "['/home/tomren/geant_projects/musim_test//llp_sms/rrq/rrq_bkg_n_eff0.95.joblib']"
      ]
     },
     "execution_count": 17,
     "metadata": {},
     "output_type": "execute_result"
    }
   ],
   "source": [
    "## proton background\n",
    "res_bkg_p = cut_functions.run_processing(fbkg, entries=entries, efficiency = efficiency);\n",
    "joblib.dump(res_bkg_p.data, f\"{data_dir}/llp_sms/rrq/rrq_bkg_p_eff{efficiency:.2f}.joblib\")\n",
    "\n",
    "## Neutron background\n",
    "res_bkg_n = cut_functions.run_processing(fbkg_n, entries=entries, efficiency = efficiency);\n",
    "joblib.dump(res_bkg_n.data, f\"{data_dir}/llp_sms/rrq/rrq_bkg_n_eff{efficiency:.2f}.joblib\")       "
   ]
  },
  {
   "cell_type": "code",
   "execution_count": 18,
   "id": "cf8d7aa0-b869-4f4e-bbaf-4b4c444a5b5d",
   "metadata": {},
   "outputs": [
    {
     "name": "stdout",
     "output_type": "stream",
     "text": [
      "Entries 30\n",
      "Finished\n",
      "Entries 24729\n",
      "Finished\n"
     ]
    },
    {
     "data": {
      "text/plain": [
       "['/home/tomren/geant_projects/musim_test//llp_sms/rrq/rrq_bkg_mv_eff0.95.joblib']"
      ]
     },
     "execution_count": 18,
     "metadata": {},
     "output_type": "execute_result"
    }
   ],
   "source": [
    "## neutrino background\n",
    "res_bkg = cut_functions.run_processing(fbkg_v, entries=entries, efficiency = efficiency);\n",
    "joblib.dump(res_bkg.data, f\"{data_dir}/llp_sms/rrq/rrq_bkg_v_eff{efficiency:.2f}.joblib\")\n",
    "\n",
    "## muon background\n",
    "res_bkg = cut_functions.run_processing(fbkg_mu, entries=entries, efficiency = efficiency);\n",
    "joblib.dump(res_bkg.data, f\"{data_dir}/llp_sms/rrq/rrq_bkg_mv_eff{efficiency:.2f}.joblib\")"
   ]
  },
  {
   "cell_type": "markdown",
   "id": "e9c2a326-7374-4b98-b9fc-04d4bf7679ff",
   "metadata": {},
   "source": [
    "# Signal"
   ]
  },
  {
   "cell_type": "code",
   "execution_count": 19,
   "id": "2df09c06-a90f-4153-9b60-607ea64b0f6c",
   "metadata": {},
   "outputs": [
    {
     "name": "stdout",
     "output_type": "stream",
     "text": [
      "Mass 0 GeV, Entries 1867\n",
      "Entries 1867\n",
      "Finished\n",
      "Mass 1 GeV, Entries 3217\n",
      "Entries 3217\n",
      "Finished\n",
      "Mass 2 GeV, Entries 1608\n",
      "Entries 1608\n",
      "Finished\n",
      "Mass 3 GeV, Entries 1445\n",
      "Entries 1445\n",
      "Finished\n",
      "Mass 4 GeV, Entries 2022\n",
      "Entries 2022\n",
      "Finished\n",
      "Mass 5 GeV, Entries 3340\n",
      "Entries 3340\n",
      "Finished\n",
      "Mass 6 GeV, Entries 3026\n",
      "Entries 3026\n",
      "Finished\n",
      "Mass 7 GeV, Entries 4016\n",
      "Entries 4016\n",
      "Finished\n",
      "Mass 8 GeV, Entries 60\n",
      "Entries 60\n",
      "Finished\n",
      "Mass 9 GeV, Entries 535\n",
      "Entries 535\n",
      "Finished\n",
      "Mass 10 GeV, Entries 994\n",
      "Entries 994\n",
      "Finished\n",
      "Mass 11 GeV, Entries 1253\n",
      "Entries 1253\n",
      "Finished\n",
      "Mass 12 GeV, Entries 1553\n",
      "Entries 1553\n",
      "Finished\n",
      "Mass 13 GeV, Entries 2188\n",
      "Entries 2188\n",
      "Finished\n",
      "Mass 14 GeV, Entries 2659\n",
      "Entries 2659\n",
      "Finished\n",
      "Mass 15 GeV, Entries 3045\n",
      "Entries 3045\n",
      "Finished\n"
     ]
    }
   ],
   "source": [
    "llp_file_dict = {0: 'deweighted_LLP_0.0774597.txt',\n",
    " 1: 'deweighted_LLP_0.274545.txt',\n",
    " 2: 'deweighted_LLP_0.678553.txt',\n",
    " 3: 'deweighted_LLP_0.878742.txt',\n",
    " 4: 'deweighted_LLP_1.9.txt',\n",
    " 5: 'deweighted_LLP_3.47544.txt',\n",
    " 6: 'deweighted_LLP_3.74996.txt',\n",
    " 7: 'deweighted_LLP_4.7.txt',\n",
    " 8: 'deweighted_LLP_RHN_Umu_0.1.txt',\n",
    " 9: 'deweighted_LLP_RHN_Umu_0.273842.txt',\n",
    " 10: 'deweighted_LLP_RHN_Umu_0.649382.txt',\n",
    " 11: 'deweighted_LLP_RHN_Umu_0.865964.txt',\n",
    " 12: 'deweighted_LLP_RHN_Umu_1.90365.txt',\n",
    " 13: 'deweighted_LLP_RHN_Umu_3.08517.txt',\n",
    " 14: 'deweighted_LLP_RHN_Umu_3.85.txt',\n",
    " 15: 'deweighted_LLP_RHN_Umu_4.8028.txt'}\n",
    "\n",
    "for mx in llp_file_dict:\n",
    "    fname_sig1 =   f\"{data_dir}/llp_sms/run_{mx}_digi_cosmic_recon_skim.root\"\n",
    "    fsig1 = root.tfile_reader(fname_sig1)\n",
    "    fsig1.get_tree(\"data;1\")\n",
    "    print(f\"Mass {mx} GeV, Entries\", fsig1.entries)\n",
    "\n",
    "    res_sig = cut_functions.run_processing(fsig1, entries=entries, efficiency = efficiency);\n",
    "    joblib.dump(res_sig.data, f\"{data_dir}/llp_sms/rrq/rrq_sig_{mx}_cosmic_eff{efficiency:.2f}.joblib\")"
   ]
  },
  {
   "cell_type": "code",
   "execution_count": null,
   "id": "15e30752-91be-4185-9fee-1258f961f46b",
   "metadata": {},
   "outputs": [],
   "source": []
  }
 ],
 "metadata": {
  "kernelspec": {
   "display_name": "Python 3 (ipykernel)",
   "language": "python",
   "name": "python3"
  },
  "language_info": {
   "codemirror_mode": {
    "name": "ipython",
    "version": 3
   },
   "file_extension": ".py",
   "mimetype": "text/x-python",
   "name": "python",
   "nbconvert_exporter": "python",
   "pygments_lexer": "ipython3",
   "version": "3.10.12"
  }
 },
 "nbformat": 4,
 "nbformat_minor": 5
}
